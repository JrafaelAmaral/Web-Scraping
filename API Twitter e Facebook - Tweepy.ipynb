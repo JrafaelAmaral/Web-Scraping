{
 "cells": [
  {
   "cell_type": "markdown",
   "metadata": {},
   "source": [
    "# Acesso a banco de dados com API do Twitter - usando Tweepy"
   ]
  },
  {
   "cell_type": "raw",
   "metadata": {},
   "source": [
    "Neste site https://apps.twitter.com/, eu crio um novo app (obs. seguir os passos do vídeo)\n",
    "\n",
    "\n",
    "Twitter - Application Settings & Access Token\n",
    "\n",
    "Consumer Key (API Key)\thEi4OYoqe3KOTTvD49XT9i3OM\n",
    "\n",
    "Consumer Secret (API Secret)\tvymjd0Fr3Dwpmdp3ibthmuoSgGq3qzVUClzVRcpEyAukX0aOxW\n",
    "\n",
    "Access Token\t708864670887780352-AbfRl4YqO6wWiWVZVnPJiYNpMcPT6Op\n",
    "\n",
    "Access Token Secret\tjqCh3tTLDCAzazsMnjBJtZAgzQej02tYnfmOpv9I5GTdp"
   ]
  },
  {
   "cell_type": "code",
   "execution_count": 3,
   "metadata": {},
   "outputs": [],
   "source": [
    "# é bom verificar a documentação desse pacote para ver suas funcionalidades\n",
    "# biblioteca que acessa diretamente a API\n",
    "import tweepy\n",
    "\n",
    "consumer_key = 'hEi4OYoqe3KOTTvD49XT9i3OM'\n",
    "consumer_secret = 'vymjd0Fr3Dwpmdp3ibthmuoSgGq3qzVUClzVRcpEyAukX0aOxW'\n",
    "access_token = '708864670887780352-AbfRl4YqO6wWiWVZVnPJiYNpMcPT6Op'\n",
    "access_token_secret = 'jqCh3tTLDCAzazsMnjBJtZAgzQej02tYnfmOpv9I5GTdp'\n",
    "\n",
    "# auth = authorization\n",
    "auth = tweepy.OAuthHandler(consumer_key, consumer_secret)\n",
    "auth.set_access_token(access_token,access_token_secret)\n",
    "\n",
    "# o programa usa a bibl. tweepy na autorização dada pelo API\n",
    "api = tweepy.API(auth)"
   ]
  },
  {
   "cell_type": "code",
   "execution_count": 4,
   "metadata": {},
   "outputs": [
    {
     "data": {
      "text/plain": [
       "User(_api=<tweepy.api.API object at 0x0000025A11FF7AC8>, _json={'id': 708864670887780352, 'id_str': '708864670887780352', 'name': 'jose rafael amaral', 'screen_name': 'jrafaelamaral', 'location': '', 'profile_location': None, 'description': '', 'url': None, 'entities': {'description': {'urls': []}}, 'protected': False, 'followers_count': 4, 'friends_count': 56, 'listed_count': 0, 'created_at': 'Sun Mar 13 03:58:02 +0000 2016', 'favourites_count': 2, 'utc_offset': None, 'time_zone': None, 'geo_enabled': False, 'verified': False, 'statuses_count': 7, 'lang': 'pt', 'status': {'created_at': 'Wed Oct 10 16:43:06 +0000 2018', 'id': 1050064190352883713, 'id_str': '1050064190352883713', 'text': 'Aprendendo a construir uma aplicação back-end fácil fácil #backend #Bottle #framework #MongoDB #Pycharm #pymongo… https://t.co/dyPYV4C51E', 'truncated': True, 'entities': {'hashtags': [{'text': 'backend', 'indices': [58, 66]}, {'text': 'Bottle', 'indices': [67, 74]}, {'text': 'framework', 'indices': [75, 85]}, {'text': 'MongoDB', 'indices': [86, 94]}, {'text': 'Pycharm', 'indices': [95, 103]}, {'text': 'pymongo', 'indices': [104, 112]}], 'symbols': [], 'user_mentions': [], 'urls': [{'url': 'https://t.co/dyPYV4C51E', 'expanded_url': 'https://twitter.com/i/web/status/1050064190352883713', 'display_url': 'twitter.com/i/web/status/1…', 'indices': [114, 137]}]}, 'source': '<a href=\"https://www.blog2social.com\" rel=\"nofollow\">Blog2Social APP</a>', 'in_reply_to_status_id': None, 'in_reply_to_status_id_str': None, 'in_reply_to_user_id': None, 'in_reply_to_user_id_str': None, 'in_reply_to_screen_name': None, 'geo': None, 'coordinates': None, 'place': None, 'contributors': None, 'is_quote_status': False, 'retweet_count': 0, 'favorite_count': 0, 'favorited': False, 'retweeted': False, 'possibly_sensitive': False, 'lang': 'pt'}, 'contributors_enabled': False, 'is_translator': False, 'is_translation_enabled': False, 'profile_background_color': '000000', 'profile_background_image_url': 'http://abs.twimg.com/images/themes/theme1/bg.png', 'profile_background_image_url_https': 'https://abs.twimg.com/images/themes/theme1/bg.png', 'profile_background_tile': False, 'profile_image_url': 'http://pbs.twimg.com/profile_images/1043550589555236870/k30lTEqt_normal.jpg', 'profile_image_url_https': 'https://pbs.twimg.com/profile_images/1043550589555236870/k30lTEqt_normal.jpg', 'profile_banner_url': 'https://pbs.twimg.com/profile_banners/708864670887780352/1532290200', 'profile_link_color': 'ABB8C2', 'profile_sidebar_border_color': '000000', 'profile_sidebar_fill_color': '000000', 'profile_text_color': '000000', 'profile_use_background_image': False, 'has_extended_profile': False, 'default_profile': False, 'default_profile_image': False, 'following': False, 'follow_request_sent': False, 'notifications': False, 'translator_type': 'none', 'suspended': False, 'needs_phone_verification': False}, id=708864670887780352, id_str='708864670887780352', name='jose rafael amaral', screen_name='jrafaelamaral', location='', profile_location=None, description='', url=None, entities={'description': {'urls': []}}, protected=False, followers_count=4, friends_count=56, listed_count=0, created_at=datetime.datetime(2016, 3, 13, 3, 58, 2), favourites_count=2, utc_offset=None, time_zone=None, geo_enabled=False, verified=False, statuses_count=7, lang='pt', status=Status(_api=<tweepy.api.API object at 0x0000025A11FF7AC8>, _json={'created_at': 'Wed Oct 10 16:43:06 +0000 2018', 'id': 1050064190352883713, 'id_str': '1050064190352883713', 'text': 'Aprendendo a construir uma aplicação back-end fácil fácil #backend #Bottle #framework #MongoDB #Pycharm #pymongo… https://t.co/dyPYV4C51E', 'truncated': True, 'entities': {'hashtags': [{'text': 'backend', 'indices': [58, 66]}, {'text': 'Bottle', 'indices': [67, 74]}, {'text': 'framework', 'indices': [75, 85]}, {'text': 'MongoDB', 'indices': [86, 94]}, {'text': 'Pycharm', 'indices': [95, 103]}, {'text': 'pymongo', 'indices': [104, 112]}], 'symbols': [], 'user_mentions': [], 'urls': [{'url': 'https://t.co/dyPYV4C51E', 'expanded_url': 'https://twitter.com/i/web/status/1050064190352883713', 'display_url': 'twitter.com/i/web/status/1…', 'indices': [114, 137]}]}, 'source': '<a href=\"https://www.blog2social.com\" rel=\"nofollow\">Blog2Social APP</a>', 'in_reply_to_status_id': None, 'in_reply_to_status_id_str': None, 'in_reply_to_user_id': None, 'in_reply_to_user_id_str': None, 'in_reply_to_screen_name': None, 'geo': None, 'coordinates': None, 'place': None, 'contributors': None, 'is_quote_status': False, 'retweet_count': 0, 'favorite_count': 0, 'favorited': False, 'retweeted': False, 'possibly_sensitive': False, 'lang': 'pt'}, created_at=datetime.datetime(2018, 10, 10, 16, 43, 6), id=1050064190352883713, id_str='1050064190352883713', text='Aprendendo a construir uma aplicação back-end fácil fácil #backend #Bottle #framework #MongoDB #Pycharm #pymongo… https://t.co/dyPYV4C51E', truncated=True, entities={'hashtags': [{'text': 'backend', 'indices': [58, 66]}, {'text': 'Bottle', 'indices': [67, 74]}, {'text': 'framework', 'indices': [75, 85]}, {'text': 'MongoDB', 'indices': [86, 94]}, {'text': 'Pycharm', 'indices': [95, 103]}, {'text': 'pymongo', 'indices': [104, 112]}], 'symbols': [], 'user_mentions': [], 'urls': [{'url': 'https://t.co/dyPYV4C51E', 'expanded_url': 'https://twitter.com/i/web/status/1050064190352883713', 'display_url': 'twitter.com/i/web/status/1…', 'indices': [114, 137]}]}, source='Blog2Social APP', source_url='https://www.blog2social.com', in_reply_to_status_id=None, in_reply_to_status_id_str=None, in_reply_to_user_id=None, in_reply_to_user_id_str=None, in_reply_to_screen_name=None, geo=None, coordinates=None, place=None, contributors=None, is_quote_status=False, retweet_count=0, favorite_count=0, favorited=False, retweeted=False, possibly_sensitive=False, lang='pt'), contributors_enabled=False, is_translator=False, is_translation_enabled=False, profile_background_color='000000', profile_background_image_url='http://abs.twimg.com/images/themes/theme1/bg.png', profile_background_image_url_https='https://abs.twimg.com/images/themes/theme1/bg.png', profile_background_tile=False, profile_image_url='http://pbs.twimg.com/profile_images/1043550589555236870/k30lTEqt_normal.jpg', profile_image_url_https='https://pbs.twimg.com/profile_images/1043550589555236870/k30lTEqt_normal.jpg', profile_banner_url='https://pbs.twimg.com/profile_banners/708864670887780352/1532290200', profile_link_color='ABB8C2', profile_sidebar_border_color='000000', profile_sidebar_fill_color='000000', profile_text_color='000000', profile_use_background_image=False, has_extended_profile=False, default_profile=False, default_profile_image=False, following=False, follow_request_sent=False, notifications=False, translator_type='none', suspended=False, needs_phone_verification=False)"
      ]
     },
     "execution_count": 4,
     "metadata": {},
     "output_type": "execute_result"
    }
   ],
   "source": [
    "# user method\n",
    "api.get_user('jrafaelamaral')"
   ]
  },
  {
   "cell_type": "code",
   "execution_count": 5,
   "metadata": {},
   "outputs": [
    {
     "data": {
      "text/plain": [
       "{'contributors_enabled': False,\n",
       " 'created_at': 'Sun Mar 13 03:58:02 +0000 2016',\n",
       " 'default_profile': False,\n",
       " 'default_profile_image': False,\n",
       " 'description': '',\n",
       " 'entities': {'description': {'urls': []}},\n",
       " 'favourites_count': 2,\n",
       " 'follow_request_sent': False,\n",
       " 'followers_count': 4,\n",
       " 'following': False,\n",
       " 'friends_count': 56,\n",
       " 'geo_enabled': False,\n",
       " 'has_extended_profile': False,\n",
       " 'id': 708864670887780352,\n",
       " 'id_str': '708864670887780352',\n",
       " 'is_translation_enabled': False,\n",
       " 'is_translator': False,\n",
       " 'lang': 'pt',\n",
       " 'listed_count': 0,\n",
       " 'location': '',\n",
       " 'name': 'jose rafael amaral',\n",
       " 'needs_phone_verification': False,\n",
       " 'notifications': False,\n",
       " 'profile_background_color': '000000',\n",
       " 'profile_background_image_url': 'http://abs.twimg.com/images/themes/theme1/bg.png',\n",
       " 'profile_background_image_url_https': 'https://abs.twimg.com/images/themes/theme1/bg.png',\n",
       " 'profile_background_tile': False,\n",
       " 'profile_banner_url': 'https://pbs.twimg.com/profile_banners/708864670887780352/1532290200',\n",
       " 'profile_image_url': 'http://pbs.twimg.com/profile_images/1043550589555236870/k30lTEqt_normal.jpg',\n",
       " 'profile_image_url_https': 'https://pbs.twimg.com/profile_images/1043550589555236870/k30lTEqt_normal.jpg',\n",
       " 'profile_link_color': 'ABB8C2',\n",
       " 'profile_location': None,\n",
       " 'profile_sidebar_border_color': '000000',\n",
       " 'profile_sidebar_fill_color': '000000',\n",
       " 'profile_text_color': '000000',\n",
       " 'profile_use_background_image': False,\n",
       " 'protected': False,\n",
       " 'screen_name': 'jrafaelamaral',\n",
       " 'status': {'contributors': None,\n",
       "  'coordinates': None,\n",
       "  'created_at': 'Wed Oct 10 16:43:06 +0000 2018',\n",
       "  'entities': {'hashtags': [{'indices': [58, 66], 'text': 'backend'},\n",
       "    {'indices': [67, 74], 'text': 'Bottle'},\n",
       "    {'indices': [75, 85], 'text': 'framework'},\n",
       "    {'indices': [86, 94], 'text': 'MongoDB'},\n",
       "    {'indices': [95, 103], 'text': 'Pycharm'},\n",
       "    {'indices': [104, 112], 'text': 'pymongo'}],\n",
       "   'symbols': [],\n",
       "   'urls': [{'display_url': 'twitter.com/i/web/status/1…',\n",
       "     'expanded_url': 'https://twitter.com/i/web/status/1050064190352883713',\n",
       "     'indices': [114, 137],\n",
       "     'url': 'https://t.co/dyPYV4C51E'}],\n",
       "   'user_mentions': []},\n",
       "  'favorite_count': 0,\n",
       "  'favorited': False,\n",
       "  'geo': None,\n",
       "  'id': 1050064190352883713,\n",
       "  'id_str': '1050064190352883713',\n",
       "  'in_reply_to_screen_name': None,\n",
       "  'in_reply_to_status_id': None,\n",
       "  'in_reply_to_status_id_str': None,\n",
       "  'in_reply_to_user_id': None,\n",
       "  'in_reply_to_user_id_str': None,\n",
       "  'is_quote_status': False,\n",
       "  'lang': 'pt',\n",
       "  'place': None,\n",
       "  'possibly_sensitive': False,\n",
       "  'retweet_count': 0,\n",
       "  'retweeted': False,\n",
       "  'source': '<a href=\"https://www.blog2social.com\" rel=\"nofollow\">Blog2Social APP</a>',\n",
       "  'text': 'Aprendendo a construir uma aplicação back-end fácil fácil #backend #Bottle #framework #MongoDB #Pycharm #pymongo… https://t.co/dyPYV4C51E',\n",
       "  'truncated': True},\n",
       " 'statuses_count': 7,\n",
       " 'suspended': False,\n",
       " 'time_zone': None,\n",
       " 'translator_type': 'none',\n",
       " 'url': None,\n",
       " 'utc_offset': None,\n",
       " 'verified': False}"
      ]
     },
     "execution_count": 5,
     "metadata": {},
     "output_type": "execute_result"
    }
   ],
   "source": [
    "# cria-se um objeto em json\n",
    "jrafael = api.get_user('jrafaelamaral')._json\n",
    "jrafael"
   ]
  },
  {
   "cell_type": "code",
   "execution_count": 6,
   "metadata": {},
   "outputs": [
    {
     "data": {
      "text/plain": [
       "4"
      ]
     },
     "execution_count": 6,
     "metadata": {},
     "output_type": "execute_result"
    }
   ],
   "source": [
    "jrafael['followers_count']"
   ]
  },
  {
   "cell_type": "markdown",
   "metadata": {},
   "source": [
    "# Banco de dados com API do Facebook"
   ]
  },
  {
   "cell_type": "code",
   "execution_count": 7,
   "metadata": {},
   "outputs": [],
   "source": [
    "# estrutura para usar o API do Facebook\n",
    "ID_do_aplicativo = ''\n",
    "chave_secreta = ''\n",
    "token = ID_do_aplicativo + '|' + chave_secreta\n",
    "pagina = 'nytimes'\n",
    "fields = 'about,fan_count,website'\n",
    "url = f'https://graph.facebook.com/v2.11/{pagina}?fields={fields}&access_token={token}'"
   ]
  },
  {
   "cell_type": "code",
   "execution_count": 8,
   "metadata": {},
   "outputs": [
    {
     "data": {
      "text/plain": [
       "User(_api=<tweepy.api.API object at 0x0000025A11FF7AC8>, _json={'id': 2152651, 'id_str': '2152651', 'name': 'Pedro Burgos', 'screen_name': 'Burgos', 'location': 'São Paulo, Brasil', 'profile_location': {'id': '68e019afec7d0ba5', 'url': 'https://api.twitter.com/1.1/geo/id/68e019afec7d0ba5.json', 'place_type': 'unknown', 'name': 'São Paulo, Brasil', 'full_name': 'São Paulo, Brasil', 'country_code': '', 'country': '', 'contained_within': [], 'bounding_box': None, 'attributes': {}}, 'description': 'ICFJ Knight Fellow, Founder, Impacto.jor w/ @googlenewslab. Previously on: @gazetadopovo, @marshallproj, @gizmodobr. BSB-SP-NYC-CWB-SP.', 'url': 'https://t.co/b5THFGgZjb', 'entities': {'url': {'urls': [{'url': 'https://t.co/b5THFGgZjb', 'expanded_url': 'http://facebook.com/burgosoene', 'display_url': 'facebook.com/burgosoene', 'indices': [0, 23]}]}, 'description': {'urls': []}}, 'protected': False, 'followers_count': 5272, 'friends_count': 583, 'listed_count': 232, 'created_at': 'Sun Mar 25 03:07:00 +0000 2007', 'favourites_count': 5990, 'utc_offset': None, 'time_zone': None, 'geo_enabled': True, 'verified': False, 'statuses_count': 17016, 'lang': 'pt', 'status': {'created_at': 'Mon Oct 15 14:02:01 +0000 2018', 'id': 1051835590277251072, 'id_str': '1051835590277251072', 'text': '@Negro_Direita @bernardopkuster @hcm_SupTecTI Não foi apagado. O tweet não existe. É fácil ver: em 2014 o limite er… https://t.co/wIXvKUQb9m', 'truncated': True, 'entities': {'hashtags': [], 'symbols': [], 'user_mentions': [{'screen_name': 'Negro_Direita', 'name': 'Carlos🇧🇷😎👉👉', 'id': 939605747175972864, 'id_str': '939605747175972864', 'indices': [0, 14]}, {'screen_name': 'bernardopkuster', 'name': 'Bernardo P Küster 🐸 GAB @bernardokuster', 'id': 3092434408, 'id_str': '3092434408', 'indices': [15, 31]}, {'screen_name': 'hcm_SupTecTI', 'name': 'Humberto', 'id': 335684677, 'id_str': '335684677', 'indices': [32, 45]}], 'urls': [{'url': 'https://t.co/wIXvKUQb9m', 'expanded_url': 'https://twitter.com/i/web/status/1051835590277251072', 'display_url': 'twitter.com/i/web/status/1…', 'indices': [117, 140]}]}, 'source': '<a href=\"http://twitter.com\" rel=\"nofollow\">Twitter Web Client</a>', 'in_reply_to_status_id': 1051604962667626496, 'in_reply_to_status_id_str': '1051604962667626496', 'in_reply_to_user_id': 939605747175972864, 'in_reply_to_user_id_str': '939605747175972864', 'in_reply_to_screen_name': 'Negro_Direita', 'geo': None, 'coordinates': None, 'place': None, 'contributors': None, 'is_quote_status': False, 'retweet_count': 3, 'favorite_count': 25, 'favorited': False, 'retweeted': False, 'possibly_sensitive': False, 'lang': 'pt'}, 'contributors_enabled': False, 'is_translator': False, 'is_translation_enabled': False, 'profile_background_color': '022330', 'profile_background_image_url': 'http://abs.twimg.com/images/themes/theme15/bg.png', 'profile_background_image_url_https': 'https://abs.twimg.com/images/themes/theme15/bg.png', 'profile_background_tile': False, 'profile_image_url': 'http://pbs.twimg.com/profile_images/2924418696/703e03e9454d4ec2d24cf095652aa5ea_normal.jpeg', 'profile_image_url_https': 'https://pbs.twimg.com/profile_images/2924418696/703e03e9454d4ec2d24cf095652aa5ea_normal.jpeg', 'profile_banner_url': 'https://pbs.twimg.com/profile_banners/2152651/1427941670', 'profile_link_color': '0084B4', 'profile_sidebar_border_color': 'A8C7F7', 'profile_sidebar_fill_color': 'C0DFEC', 'profile_text_color': '333333', 'profile_use_background_image': True, 'has_extended_profile': False, 'default_profile': False, 'default_profile_image': False, 'following': False, 'follow_request_sent': False, 'notifications': False, 'translator_type': 'regular'}, id=2152651, id_str='2152651', name='Pedro Burgos', screen_name='Burgos', location='São Paulo, Brasil', profile_location={'id': '68e019afec7d0ba5', 'url': 'https://api.twitter.com/1.1/geo/id/68e019afec7d0ba5.json', 'place_type': 'unknown', 'name': 'São Paulo, Brasil', 'full_name': 'São Paulo, Brasil', 'country_code': '', 'country': '', 'contained_within': [], 'bounding_box': None, 'attributes': {}}, description='ICFJ Knight Fellow, Founder, Impacto.jor w/ @googlenewslab. Previously on: @gazetadopovo, @marshallproj, @gizmodobr. BSB-SP-NYC-CWB-SP.', url='https://t.co/b5THFGgZjb', entities={'url': {'urls': [{'url': 'https://t.co/b5THFGgZjb', 'expanded_url': 'http://facebook.com/burgosoene', 'display_url': 'facebook.com/burgosoene', 'indices': [0, 23]}]}, 'description': {'urls': []}}, protected=False, followers_count=5272, friends_count=583, listed_count=232, created_at=datetime.datetime(2007, 3, 25, 3, 7), favourites_count=5990, utc_offset=None, time_zone=None, geo_enabled=True, verified=False, statuses_count=17016, lang='pt', status=Status(_api=<tweepy.api.API object at 0x0000025A11FF7AC8>, _json={'created_at': 'Mon Oct 15 14:02:01 +0000 2018', 'id': 1051835590277251072, 'id_str': '1051835590277251072', 'text': '@Negro_Direita @bernardopkuster @hcm_SupTecTI Não foi apagado. O tweet não existe. É fácil ver: em 2014 o limite er… https://t.co/wIXvKUQb9m', 'truncated': True, 'entities': {'hashtags': [], 'symbols': [], 'user_mentions': [{'screen_name': 'Negro_Direita', 'name': 'Carlos🇧🇷😎👉👉', 'id': 939605747175972864, 'id_str': '939605747175972864', 'indices': [0, 14]}, {'screen_name': 'bernardopkuster', 'name': 'Bernardo P Küster 🐸 GAB @bernardokuster', 'id': 3092434408, 'id_str': '3092434408', 'indices': [15, 31]}, {'screen_name': 'hcm_SupTecTI', 'name': 'Humberto', 'id': 335684677, 'id_str': '335684677', 'indices': [32, 45]}], 'urls': [{'url': 'https://t.co/wIXvKUQb9m', 'expanded_url': 'https://twitter.com/i/web/status/1051835590277251072', 'display_url': 'twitter.com/i/web/status/1…', 'indices': [117, 140]}]}, 'source': '<a href=\"http://twitter.com\" rel=\"nofollow\">Twitter Web Client</a>', 'in_reply_to_status_id': 1051604962667626496, 'in_reply_to_status_id_str': '1051604962667626496', 'in_reply_to_user_id': 939605747175972864, 'in_reply_to_user_id_str': '939605747175972864', 'in_reply_to_screen_name': 'Negro_Direita', 'geo': None, 'coordinates': None, 'place': None, 'contributors': None, 'is_quote_status': False, 'retweet_count': 3, 'favorite_count': 25, 'favorited': False, 'retweeted': False, 'possibly_sensitive': False, 'lang': 'pt'}, created_at=datetime.datetime(2018, 10, 15, 14, 2, 1), id=1051835590277251072, id_str='1051835590277251072', text='@Negro_Direita @bernardopkuster @hcm_SupTecTI Não foi apagado. O tweet não existe. É fácil ver: em 2014 o limite er… https://t.co/wIXvKUQb9m', truncated=True, entities={'hashtags': [], 'symbols': [], 'user_mentions': [{'screen_name': 'Negro_Direita', 'name': 'Carlos🇧🇷😎👉👉', 'id': 939605747175972864, 'id_str': '939605747175972864', 'indices': [0, 14]}, {'screen_name': 'bernardopkuster', 'name': 'Bernardo P Küster 🐸 GAB @bernardokuster', 'id': 3092434408, 'id_str': '3092434408', 'indices': [15, 31]}, {'screen_name': 'hcm_SupTecTI', 'name': 'Humberto', 'id': 335684677, 'id_str': '335684677', 'indices': [32, 45]}], 'urls': [{'url': 'https://t.co/wIXvKUQb9m', 'expanded_url': 'https://twitter.com/i/web/status/1051835590277251072', 'display_url': 'twitter.com/i/web/status/1…', 'indices': [117, 140]}]}, source='Twitter Web Client', source_url='http://twitter.com', in_reply_to_status_id=1051604962667626496, in_reply_to_status_id_str='1051604962667626496', in_reply_to_user_id=939605747175972864, in_reply_to_user_id_str='939605747175972864', in_reply_to_screen_name='Negro_Direita', geo=None, coordinates=None, place=None, contributors=None, is_quote_status=False, retweet_count=3, favorite_count=25, favorited=False, retweeted=False, possibly_sensitive=False, lang='pt'), contributors_enabled=False, is_translator=False, is_translation_enabled=False, profile_background_color='022330', profile_background_image_url='http://abs.twimg.com/images/themes/theme15/bg.png', profile_background_image_url_https='https://abs.twimg.com/images/themes/theme15/bg.png', profile_background_tile=False, profile_image_url='http://pbs.twimg.com/profile_images/2924418696/703e03e9454d4ec2d24cf095652aa5ea_normal.jpeg', profile_image_url_https='https://pbs.twimg.com/profile_images/2924418696/703e03e9454d4ec2d24cf095652aa5ea_normal.jpeg', profile_banner_url='https://pbs.twimg.com/profile_banners/2152651/1427941670', profile_link_color='0084B4', profile_sidebar_border_color='A8C7F7', profile_sidebar_fill_color='C0DFEC', profile_text_color='333333', profile_use_background_image=True, has_extended_profile=False, default_profile=False, default_profile_image=False, following=False, follow_request_sent=False, notifications=False, translator_type='regular')"
      ]
     },
     "execution_count": 8,
     "metadata": {},
     "output_type": "execute_result"
    }
   ],
   "source": [
    "# Pedro Burgos - professor\n",
    "burgos = api.get_user('burgos')\n",
    "burgos"
   ]
  },
  {
   "cell_type": "code",
   "execution_count": 9,
   "metadata": {},
   "outputs": [
    {
     "data": {
      "text/plain": [
       "{'contributors_enabled': False,\n",
       " 'created_at': 'Sun Mar 25 03:07:00 +0000 2007',\n",
       " 'default_profile': False,\n",
       " 'default_profile_image': False,\n",
       " 'description': 'ICFJ Knight Fellow, Founder, Impacto.jor w/ @googlenewslab. Previously on: @gazetadopovo, @marshallproj, @gizmodobr. BSB-SP-NYC-CWB-SP.',\n",
       " 'entities': {'description': {'urls': []},\n",
       "  'url': {'urls': [{'display_url': 'facebook.com/burgosoene',\n",
       "     'expanded_url': 'http://facebook.com/burgosoene',\n",
       "     'indices': [0, 23],\n",
       "     'url': 'https://t.co/b5THFGgZjb'}]}},\n",
       " 'favourites_count': 5990,\n",
       " 'follow_request_sent': False,\n",
       " 'followers_count': 5272,\n",
       " 'following': False,\n",
       " 'friends_count': 583,\n",
       " 'geo_enabled': True,\n",
       " 'has_extended_profile': False,\n",
       " 'id': 2152651,\n",
       " 'id_str': '2152651',\n",
       " 'is_translation_enabled': False,\n",
       " 'is_translator': False,\n",
       " 'lang': 'pt',\n",
       " 'listed_count': 232,\n",
       " 'location': 'São Paulo, Brasil',\n",
       " 'name': 'Pedro Burgos',\n",
       " 'notifications': False,\n",
       " 'profile_background_color': '022330',\n",
       " 'profile_background_image_url': 'http://abs.twimg.com/images/themes/theme15/bg.png',\n",
       " 'profile_background_image_url_https': 'https://abs.twimg.com/images/themes/theme15/bg.png',\n",
       " 'profile_background_tile': False,\n",
       " 'profile_banner_url': 'https://pbs.twimg.com/profile_banners/2152651/1427941670',\n",
       " 'profile_image_url': 'http://pbs.twimg.com/profile_images/2924418696/703e03e9454d4ec2d24cf095652aa5ea_normal.jpeg',\n",
       " 'profile_image_url_https': 'https://pbs.twimg.com/profile_images/2924418696/703e03e9454d4ec2d24cf095652aa5ea_normal.jpeg',\n",
       " 'profile_link_color': '0084B4',\n",
       " 'profile_location': {'attributes': {},\n",
       "  'bounding_box': None,\n",
       "  'contained_within': [],\n",
       "  'country': '',\n",
       "  'country_code': '',\n",
       "  'full_name': 'São Paulo, Brasil',\n",
       "  'id': '68e019afec7d0ba5',\n",
       "  'name': 'São Paulo, Brasil',\n",
       "  'place_type': 'unknown',\n",
       "  'url': 'https://api.twitter.com/1.1/geo/id/68e019afec7d0ba5.json'},\n",
       " 'profile_sidebar_border_color': 'A8C7F7',\n",
       " 'profile_sidebar_fill_color': 'C0DFEC',\n",
       " 'profile_text_color': '333333',\n",
       " 'profile_use_background_image': True,\n",
       " 'protected': False,\n",
       " 'screen_name': 'Burgos',\n",
       " 'status': {'contributors': None,\n",
       "  'coordinates': None,\n",
       "  'created_at': 'Mon Oct 15 14:02:01 +0000 2018',\n",
       "  'entities': {'hashtags': [],\n",
       "   'symbols': [],\n",
       "   'urls': [{'display_url': 'twitter.com/i/web/status/1…',\n",
       "     'expanded_url': 'https://twitter.com/i/web/status/1051835590277251072',\n",
       "     'indices': [117, 140],\n",
       "     'url': 'https://t.co/wIXvKUQb9m'}],\n",
       "   'user_mentions': [{'id': 939605747175972864,\n",
       "     'id_str': '939605747175972864',\n",
       "     'indices': [0, 14],\n",
       "     'name': 'Carlos🇧🇷😎👉👉',\n",
       "     'screen_name': 'Negro_Direita'},\n",
       "    {'id': 3092434408,\n",
       "     'id_str': '3092434408',\n",
       "     'indices': [15, 31],\n",
       "     'name': 'Bernardo P Küster 🐸 GAB @bernardokuster',\n",
       "     'screen_name': 'bernardopkuster'},\n",
       "    {'id': 335684677,\n",
       "     'id_str': '335684677',\n",
       "     'indices': [32, 45],\n",
       "     'name': 'Humberto',\n",
       "     'screen_name': 'hcm_SupTecTI'}]},\n",
       "  'favorite_count': 25,\n",
       "  'favorited': False,\n",
       "  'geo': None,\n",
       "  'id': 1051835590277251072,\n",
       "  'id_str': '1051835590277251072',\n",
       "  'in_reply_to_screen_name': 'Negro_Direita',\n",
       "  'in_reply_to_status_id': 1051604962667626496,\n",
       "  'in_reply_to_status_id_str': '1051604962667626496',\n",
       "  'in_reply_to_user_id': 939605747175972864,\n",
       "  'in_reply_to_user_id_str': '939605747175972864',\n",
       "  'is_quote_status': False,\n",
       "  'lang': 'pt',\n",
       "  'place': None,\n",
       "  'possibly_sensitive': False,\n",
       "  'retweet_count': 3,\n",
       "  'retweeted': False,\n",
       "  'source': '<a href=\"http://twitter.com\" rel=\"nofollow\">Twitter Web Client</a>',\n",
       "  'text': '@Negro_Direita @bernardopkuster @hcm_SupTecTI Não foi apagado. O tweet não existe. É fácil ver: em 2014 o limite er… https://t.co/wIXvKUQb9m',\n",
       "  'truncated': True},\n",
       " 'statuses_count': 17016,\n",
       " 'time_zone': None,\n",
       " 'translator_type': 'regular',\n",
       " 'url': 'https://t.co/b5THFGgZjb',\n",
       " 'utc_offset': None,\n",
       " 'verified': False}"
      ]
     },
     "execution_count": 9,
     "metadata": {},
     "output_type": "execute_result"
    }
   ],
   "source": [
    "burgos = api.get_user('burgos')._json\n",
    "burgos"
   ]
  },
  {
   "cell_type": "code",
   "execution_count": 10,
   "metadata": {},
   "outputs": [
    {
     "data": {
      "text/plain": [
       "5272"
      ]
     },
     "execution_count": 10,
     "metadata": {},
     "output_type": "execute_result"
    }
   ],
   "source": [
    "burgos['followers_count']"
   ]
  },
  {
   "cell_type": "code",
   "execution_count": 11,
   "metadata": {},
   "outputs": [],
   "source": [
    "jornais_no_twitter = ('folha', 'estadao', 'jornaloglobo', 'zerohora')"
   ]
  },
  {
   "cell_type": "code",
   "execution_count": 12,
   "metadata": {},
   "outputs": [],
   "source": [
    "def seguidores(usuario_no_twitter):\n",
    "    consulta_api = api.get_user(usuario_no_twitter)._json\n",
    "    seguidores = consulta_api['followers_count']\n",
    "    return seguidores"
   ]
  },
  {
   "cell_type": "code",
   "execution_count": 13,
   "metadata": {},
   "outputs": [
    {
     "data": {
      "text/plain": [
       "5272"
      ]
     },
     "execution_count": 13,
     "metadata": {},
     "output_type": "execute_result"
    }
   ],
   "source": [
    "seguidores('burgos')"
   ]
  },
  {
   "cell_type": "code",
   "execution_count": 14,
   "metadata": {},
   "outputs": [
    {
     "name": "stdout",
     "output_type": "stream",
     "text": [
      "o usuario folha tem 6368381 seguidores no twitter\n",
      "o usuario estadao tem 6132607 seguidores no twitter\n",
      "o usuario jornaloglobo tem 5644752 seguidores no twitter\n",
      "o usuario zerohora tem 2048 seguidores no twitter\n"
     ]
    }
   ],
   "source": [
    "for jornal in jornais_no_twitter:\n",
    "    numero = seguidores(jornal)\n",
    "    frase = f'o usuario {jornal} tem {numero} seguidores no twitter'\n",
    "    print(frase)"
   ]
  }
 ],
 "metadata": {
  "kernelspec": {
   "display_name": "Python 3",
   "language": "python",
   "name": "python3"
  },
  "language_info": {
   "codemirror_mode": {
    "name": "ipython",
    "version": 3
   },
   "file_extension": ".py",
   "mimetype": "text/x-python",
   "name": "python",
   "nbconvert_exporter": "python",
   "pygments_lexer": "ipython3",
   "version": "3.6.4"
  }
 },
 "nbformat": 4,
 "nbformat_minor": 2
}
